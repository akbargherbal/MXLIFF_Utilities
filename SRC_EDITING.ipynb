{
 "cells": [
  {
   "cell_type": "code",
   "execution_count": 1,
   "metadata": {},
   "outputs": [],
   "source": [
    "# Program to convert an xml\n",
    "# file to json file\n",
    "\n",
    "# import json module and xmltodict\n",
    "# module provided by python\n",
    "import json\n",
    "import xmltodict\n",
    "import pandas as pd\n",
    "\n",
    "# open the input xml file and read\n",
    "# data in form of python dictionary\n",
    "# using xmltodict module\n",
    "with open(\"xml_from_phrase.xml\", encoding='utf-8') as xml_file:\n",
    "    data_dict = xmltodict.parse(xml_file.read())\n",
    "    # xml_file.close()\n",
    "\n",
    "#     # generate the object using json.dumps()\n",
    "#     # corresponding to json data\n",
    "\n",
    "#     json_data = json.dumps(data_dict)\n",
    "\n",
    "#     # Write the json data to output\n",
    "#     # json file\n",
    "#     with open(\"data.json\", \"w\", encoding='utf-8') as json_file:\n",
    "#         json_file.write(json_data)\n",
    "#         # json_file.close()\n"
   ]
  },
  {
   "cell_type": "code",
   "execution_count": null,
   "metadata": {},
   "outputs": [],
   "source": []
  },
  {
   "cell_type": "code",
   "execution_count": 2,
   "metadata": {},
   "outputs": [
    {
     "data": {
      "text/plain": [
       "dict_keys(['xliff'])"
      ]
     },
     "execution_count": 2,
     "metadata": {},
     "output_type": "execute_result"
    }
   ],
   "source": [
    "data_dict.keys()"
   ]
  },
  {
   "cell_type": "code",
   "execution_count": 3,
   "metadata": {},
   "outputs": [
    {
     "data": {
      "text/plain": [
       "list"
      ]
     },
     "execution_count": 3,
     "metadata": {},
     "output_type": "execute_result"
    }
   ],
   "source": [
    "type(data_dict['xliff']['file']['body']['group'])"
   ]
  },
  {
   "cell_type": "code",
   "execution_count": 4,
   "metadata": {},
   "outputs": [
    {
     "data": {
      "text/plain": [
       "1126"
      ]
     },
     "execution_count": 4,
     "metadata": {},
     "output_type": "execute_result"
    }
   ],
   "source": [
    "len(data_dict['xliff']['file']['body']['group'])"
   ]
  },
  {
   "cell_type": "code",
   "execution_count": 5,
   "metadata": {},
   "outputs": [],
   "source": [
    "list_groups = data_dict['xliff']['file']['body']['group']"
   ]
  },
  {
   "cell_type": "code",
   "execution_count": 6,
   "metadata": {},
   "outputs": [
    {
     "data": {
      "text/plain": [
       "[str, str, str, str]"
      ]
     },
     "execution_count": 6,
     "metadata": {},
     "output_type": "execute_result"
    }
   ],
   "source": [
    "[type(i) for i in  list_groups[322]]"
   ]
  },
  {
   "cell_type": "code",
   "execution_count": 7,
   "metadata": {},
   "outputs": [
    {
     "data": {
      "text/plain": [
       "{'@id': '0rgV1fdxzRMUsfOA1_dc5:322',\n",
       " '@xml:space': 'preserve',\n",
       " '@m:score': '0.0',\n",
       " '@m:gross-score': '0.0',\n",
       " '@m:trans-origin': 'null',\n",
       " '@m:confirmed': '0',\n",
       " '@m:locked': 'false',\n",
       " '@m:para-id': '267',\n",
       " '@m:created-at': '0',\n",
       " '@m:created-by': '',\n",
       " '@m:modified-at': '0',\n",
       " '@m:modified-by': '',\n",
       " '@m:level-edited': 'false',\n",
       " 'source': '\\\\v 2 وَلَمَّا حَلَّ السَّبْتُ، أَخَذَ يُعَلِّمُ فِي الْمَجْمَعِ، فَدُهِشَ كَثِيرُونَ حِينَ سَمِعُوهُ، وَقَالُوا: «مِنْ أَيْنَ لَهُ هَذَا؟ وَمَا هذِهِ الْحِكْمَةُ الْمَوْهُوبَةُ لَهُ، وَهذِهِ الْمُعْجِزَاتُ الْجَارِيَةُ عَلَى يَدَيْهِ؟',\n",
       " 'target': None,\n",
       " 'alt-trans': [{'@origin': 'machine-trans', 'target': None},\n",
       "  {'@origin': 'memsource-tm', 'target': None}]}"
      ]
     },
     "execution_count": 7,
     "metadata": {},
     "output_type": "execute_result"
    }
   ],
   "source": [
    "list_groups[322]['trans-unit']"
   ]
  },
  {
   "cell_type": "code",
   "execution_count": 8,
   "metadata": {},
   "outputs": [
    {
     "data": {
      "text/plain": [
       "dict_keys(['@id', '@m:para-id', 'context-group', 'trans-unit'])"
      ]
     },
     "execution_count": 8,
     "metadata": {},
     "output_type": "execute_result"
    }
   ],
   "source": [
    "list_groups[322].keys()"
   ]
  },
  {
   "cell_type": "code",
   "execution_count": 9,
   "metadata": {},
   "outputs": [
    {
     "data": {
      "text/plain": [
       "{'@id': '0rgV1fdxzRMUsfOA1_dc5:322',\n",
       " '@xml:space': 'preserve',\n",
       " '@m:score': '0.0',\n",
       " '@m:gross-score': '0.0',\n",
       " '@m:trans-origin': 'null',\n",
       " '@m:confirmed': '0',\n",
       " '@m:locked': 'false',\n",
       " '@m:para-id': '267',\n",
       " '@m:created-at': '0',\n",
       " '@m:created-by': '',\n",
       " '@m:modified-at': '0',\n",
       " '@m:modified-by': '',\n",
       " '@m:level-edited': 'false',\n",
       " 'source': '\\\\v 2 وَلَمَّا حَلَّ السَّبْتُ، أَخَذَ يُعَلِّمُ فِي الْمَجْمَعِ، فَدُهِشَ كَثِيرُونَ حِينَ سَمِعُوهُ، وَقَالُوا: «مِنْ أَيْنَ لَهُ هَذَا؟ وَمَا هذِهِ الْحِكْمَةُ الْمَوْهُوبَةُ لَهُ، وَهذِهِ الْمُعْجِزَاتُ الْجَارِيَةُ عَلَى يَدَيْهِ؟',\n",
       " 'target': None,\n",
       " 'alt-trans': [{'@origin': 'machine-trans', 'target': None},\n",
       "  {'@origin': 'memsource-tm', 'target': None}]}"
      ]
     },
     "execution_count": 9,
     "metadata": {},
     "output_type": "execute_result"
    }
   ],
   "source": [
    "list_groups[322]['trans-unit']"
   ]
  },
  {
   "cell_type": "code",
   "execution_count": 10,
   "metadata": {},
   "outputs": [
    {
     "data": {
      "text/plain": [
       "dict_keys(['@id', '@m:para-id', 'context-group', 'trans-unit'])"
      ]
     },
     "execution_count": 10,
     "metadata": {},
     "output_type": "execute_result"
    }
   ],
   "source": [
    "list_groups[322].keys()"
   ]
  },
  {
   "cell_type": "code",
   "execution_count": 11,
   "metadata": {},
   "outputs": [],
   "source": [
    "data_for_pd = [(i['@id'], i['@m:para-id'], i['trans-unit']) for i in list_groups]"
   ]
  },
  {
   "cell_type": "code",
   "execution_count": 12,
   "metadata": {},
   "outputs": [],
   "source": [
    "df = pd.DataFrame(data_for_pd).rename(columns={0: 'p_id', 1: 'para_id', 2: 'trans_unit'})"
   ]
  },
  {
   "cell_type": "code",
   "execution_count": 13,
   "metadata": {},
   "outputs": [],
   "source": [
    "idx = df.sample().index[0]"
   ]
  },
  {
   "cell_type": "code",
   "execution_count": 14,
   "metadata": {},
   "outputs": [
    {
     "data": {
      "text/plain": [
       "{'@id': '0rgV1fdxzRMUsfOA1_dc5:909',\n",
       " '@xml:space': 'preserve',\n",
       " '@m:score': '0.9069767441860465',\n",
       " '@m:gross-score': '0.9069767441860465',\n",
       " '@m:trans-origin': 'tm',\n",
       " '@m:confirmed': '0',\n",
       " '@m:locked': 'false',\n",
       " '@m:para-id': '726',\n",
       " '@m:created-at': '1690892116369',\n",
       " '@m:created-by': '588395',\n",
       " '@m:modified-at': '1690892225613',\n",
       " '@m:modified-by': '588395',\n",
       " '@m:level-edited': 'false',\n",
       " 'source': '\\\\v 8 إِنَّهَا عَمِلَتْ مَا تَقْدِرُ عَلَيْهِ.',\n",
       " 'target': '8 هي سوت اللي تقدر عليه.',\n",
       " 'alt-trans': [{'@origin': 'machine-trans', 'target': None},\n",
       "  {'@origin': 'memsource-tm', 'target': None}],\n",
       " 'm:latest-trans-props': {'m:trans-prop': [{'@name': 'score',\n",
       "    '#text': '0.9069767441860465'},\n",
       "   {'@name': 'gross-score', '#text': '0.9069767441860465'},\n",
       "   {'@name': 'origin', '#text': 'tm'}]}}"
      ]
     },
     "execution_count": 14,
     "metadata": {},
     "output_type": "execute_result"
    }
   ],
   "source": [
    "df['trans_unit'].iloc[idx]"
   ]
  },
  {
   "cell_type": "code",
   "execution_count": 15,
   "metadata": {},
   "outputs": [],
   "source": [
    "df['LOCKED'] = df['trans_unit'].apply(lambda x: x['@m:locked'])"
   ]
  },
  {
   "cell_type": "code",
   "execution_count": 16,
   "metadata": {},
   "outputs": [],
   "source": [
    "df['SRC_TXT'] = df['trans_unit'].apply(lambda x: x['source'])\n",
    "df['TGT_TXT'] = df['trans_unit'].apply(lambda x: x['target'])"
   ]
  },
  {
   "cell_type": "code",
   "execution_count": 17,
   "metadata": {},
   "outputs": [],
   "source": [
    "test = df[(df.LOCKED == 'true')]"
   ]
  },
  {
   "cell_type": "code",
   "execution_count": 18,
   "metadata": {},
   "outputs": [
    {
     "data": {
      "text/plain": [
       "Series([], Name: SRC_TXT, dtype: int64)"
      ]
     },
     "execution_count": 18,
     "metadata": {},
     "output_type": "execute_result"
    }
   ],
   "source": [
    "test['SRC_TXT'].value_counts()"
   ]
  },
  {
   "cell_type": "code",
   "execution_count": 19,
   "metadata": {},
   "outputs": [
    {
     "data": {
      "text/html": [
       "<div>\n",
       "<style scoped>\n",
       "    .dataframe tbody tr th:only-of-type {\n",
       "        vertical-align: middle;\n",
       "    }\n",
       "\n",
       "    .dataframe tbody tr th {\n",
       "        vertical-align: top;\n",
       "    }\n",
       "\n",
       "    .dataframe thead th {\n",
       "        text-align: right;\n",
       "    }\n",
       "</style>\n",
       "<table border=\"1\" class=\"dataframe\">\n",
       "  <thead>\n",
       "    <tr style=\"text-align: right;\">\n",
       "      <th></th>\n",
       "      <th>p_id</th>\n",
       "      <th>para_id</th>\n",
       "      <th>trans_unit</th>\n",
       "      <th>LOCKED</th>\n",
       "      <th>SRC_TXT</th>\n",
       "      <th>TGT_TXT</th>\n",
       "    </tr>\n",
       "  </thead>\n",
       "  <tbody>\n",
       "  </tbody>\n",
       "</table>\n",
       "</div>"
      ],
      "text/plain": [
       "Empty DataFrame\n",
       "Columns: [p_id, para_id, trans_unit, LOCKED, SRC_TXT, TGT_TXT]\n",
       "Index: []"
      ]
     },
     "execution_count": 19,
     "metadata": {},
     "output_type": "execute_result"
    }
   ],
   "source": [
    "test"
   ]
  },
  {
   "cell_type": "code",
   "execution_count": null,
   "metadata": {},
   "outputs": [],
   "source": []
  }
 ],
 "metadata": {
  "kernelspec": {
   "display_name": "Python 3",
   "language": "python",
   "name": "python3"
  },
  "language_info": {
   "codemirror_mode": {
    "name": "ipython",
    "version": 3
   },
   "file_extension": ".py",
   "mimetype": "text/x-python",
   "name": "python",
   "nbconvert_exporter": "python",
   "pygments_lexer": "ipython3",
   "version": "3.8.7"
  }
 },
 "nbformat": 4,
 "nbformat_minor": 4
}
